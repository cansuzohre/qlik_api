{
 "cells": [
  {
   "metadata": {},
   "cell_type": "markdown",
   "source": "**EXAMPLE USAGES**",
   "id": "952ae717ae6c4655"
  },
  {
   "metadata": {
    "ExecuteTime": {
     "end_time": "2024-08-02T10:12:38.471891Z",
     "start_time": "2024-08-02T10:12:37.396517Z"
    }
   },
   "cell_type": "code",
   "source": "from qlik_connect import *",
   "id": "8b203c27f2ef8127",
   "outputs": [],
   "execution_count": 1
  },
  {
   "metadata": {},
   "cell_type": "markdown",
   "source": "**Connect**",
   "id": "f40a40583ed20db1"
  },
  {
   "metadata": {},
   "cell_type": "code",
   "source": [
    "# Initials\n",
    "\n",
    "QLIK_SENSE_SERVER_DOMAIN = input(\"Enter Qlik Sense Server Domain without 'https://' : \")\n",
    "USER_DIRECTORY = input(\"Enter User Directory (for instance, ASLROMAB): \")\n",
    "USER_ID = input(\"Enter User ID: \")\n",
    "APP_ID = input(\"Enter App ID for the dummy call: \")\n",
    "\n",
    "# Activate library\n",
    "qlik = QlikConnect(domain=QLIK_SENSE_SERVER_DOMAIN, user_directory=USER_DIRECTORY, user_id=USER_ID, app_id=APP_ID)\n",
    "\n",
    "# Connect to the Qlik Sense Server\n",
    "qlik.connect()"
   ],
   "id": "9949e1410449e718",
   "outputs": [],
   "execution_count": null
  },
  {
   "metadata": {},
   "cell_type": "markdown",
   "source": "**Get the app list**",
   "id": "eb36dada6dd32d"
  },
  {
   "metadata": {},
   "cell_type": "code",
   "source": [
    "doc_list = qlik.get_doclist()\n",
    "print(\"Available documents:\")\n",
    "for i, doc in enumerate(doc_list):\n",
    "    print(f\"{i + 1}: {doc['name']} (ID: {doc['id']})\")"
   ],
   "id": "6a2e2bdcedcda4be",
   "outputs": [],
   "execution_count": null
  },
  {
   "metadata": {},
   "cell_type": "markdown",
   "source": "**Select and open an app**",
   "id": "70409942f34a2c16"
  },
  {
   "metadata": {},
   "cell_type": "code",
   "source": [
    "selection = int(input(\"Select a document number to open: \")) - 1\n",
    "\n",
    "if 0 <= selection < len(doc_list):\n",
    "    selected_doc_id = doc_list[selection]['id']\n",
    "    # Open the doc\n",
    "    qlik.open_document(selected_doc_id)"
   ],
   "id": "49af02631f4cb2cb",
   "outputs": [],
   "execution_count": null
  },
  {
   "metadata": {},
   "cell_type": "markdown",
   "source": "**Simple evaluation**",
   "id": "70fb48a274ab66ef"
  },
  {
   "metadata": {},
   "cell_type": "code",
   "source": [
    "measure = input(\"Enter measure (ex: count(Sales)): \")\n",
    "qlik.evaluate_expression(measure)"
   ],
   "id": "950910ee07453428",
   "outputs": [],
   "execution_count": null
  },
  {
   "metadata": {},
   "cell_type": "markdown",
   "source": "**Evaluation with selected field and values**",
   "id": "3d457ea477e0654f"
  },
  {
   "metadata": {},
   "cell_type": "code",
   "source": [
    "field_name = input(\"Enter field (ex: REGIME): \")\n",
    "field_value = input(\"Enter field value (ex: RIC. ORDINARIO): \")\n",
    "measure = input(\"Enter measure (ex: count(distinct ID)): \")\n",
    "qlik.get_field(field_name)\n",
    "qlik.select_field(field_value)\n",
    "qlik.evaluate_expression(measure)"
   ],
   "id": "f5b0885618f4329e",
   "outputs": [],
   "execution_count": null
  },
  {
   "metadata": {},
   "cell_type": "markdown",
   "source": "**Create Session Object**",
   "id": "da02d1a392e10e83"
  },
  {
   "metadata": {},
   "cell_type": "code",
   "source": [
    "# Define your dimensions and measures\n",
    "dimensions = [\"REGIME\", \"ANNO_RICOVERO\"]\n",
    "measures = [\"count(distinct IDENTIFICATIVO_PAZIENTE)\", \"count(IDENTIFICATIVO_RICOVERO)\"]\n",
    "\n",
    "# Create session object dynamically\n",
    "qlik.create_session_obj(dimensions, measures)"
   ],
   "id": "454f5f4b60a4db5e",
   "outputs": [],
   "execution_count": null
  },
  {
   "metadata": {},
   "cell_type": "markdown",
   "source": "**Get Hypercube Data**",
   "id": "7b74ba3e20322876"
  },
  {
   "metadata": {},
   "cell_type": "code",
   "source": "qlik.get_hypercube_data()",
   "id": "73c2154215c4ea49",
   "outputs": [],
   "execution_count": null
  },
  {
   "metadata": {},
   "cell_type": "markdown",
   "source": "**Get Layout**",
   "id": "94223397db063197"
  },
  {
   "metadata": {},
   "cell_type": "code",
   "source": "qlik.get_layout()",
   "id": "56d83eb08f2758a",
   "outputs": [],
   "execution_count": null
  },
  {
   "metadata": {},
   "cell_type": "markdown",
   "source": "**Export Data**",
   "id": "fc91f326e25e3213"
  },
  {
   "metadata": {},
   "cell_type": "code",
   "source": "qlik.export_hypercube_to_csv(file_path='exported_data.csv')",
   "id": "fc3fe7fb0d8057e0",
   "outputs": [],
   "execution_count": null
  },
  {
   "metadata": {},
   "cell_type": "markdown",
   "source": "**Close Connection**",
   "id": "d749c62ca9daa45"
  },
  {
   "metadata": {},
   "cell_type": "code",
   "source": "qlik.close_connection()",
   "id": "d098b5bc35bbc8d3",
   "outputs": [],
   "execution_count": null
  },
  {
   "metadata": {},
   "cell_type": "code",
   "source": "",
   "id": "4c9f8b991195dc1a",
   "outputs": [],
   "execution_count": null
  }
 ],
 "metadata": {
  "kernelspec": {
   "display_name": "Python 3",
   "language": "python",
   "name": "python3"
  },
  "language_info": {
   "codemirror_mode": {
    "name": "ipython",
    "version": 2
   },
   "file_extension": ".py",
   "mimetype": "text/x-python",
   "name": "python",
   "nbconvert_exporter": "python",
   "pygments_lexer": "ipython2",
   "version": "2.7.6"
  }
 },
 "nbformat": 4,
 "nbformat_minor": 5
}
