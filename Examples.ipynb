{
 "cells": [
  {
   "metadata": {},
   "cell_type": "markdown",
   "source": "**EXAMPLE USAGES**",
   "id": "952ae717ae6c4655"
  },
  {
   "metadata": {
    "ExecuteTime": {
     "end_time": "2024-08-02T09:54:43.026820Z",
     "start_time": "2024-08-02T09:54:43.009824Z"
    }
   },
   "cell_type": "code",
   "source": "from qlik_connect import *",
   "id": "8b203c27f2ef8127",
   "outputs": [],
   "execution_count": 37
  },
  {
   "metadata": {},
   "cell_type": "markdown",
   "source": "**Connect**",
   "id": "f40a40583ed20db1"
  },
  {
   "metadata": {
    "ExecuteTime": {
     "end_time": "2024-08-02T09:55:09.611290Z",
     "start_time": "2024-08-02T09:55:09.445805Z"
    }
   },
   "cell_type": "code",
   "source": [
    "# Initials\n",
    "\n",
    "QLIK_SENSE_SERVER_DOMAIN = input(\"Enter Qlik Sense Server Domain without 'https://' : \")\n",
    "USER_DIRECTORY = input(\"Enter User Directory (for instance, ASLROMAB): \")\n",
    "USER_ID = input(\"Enter User ID: \")\n",
    "APP_ID = input(\"Enter App ID for the dummy call: \")\n",
    "\n",
    "# Activate library\n",
    "qlik = QlikConnect(domain=QLIK_SENSE_SERVER_DOMAIN, user_directory=USER_DIRECTORY, user_id=USER_ID, app_id=APP_ID)\n",
    "\n",
    "# Connect to the Qlik Sense Server\n",
    "qlik.connect()"
   ],
   "id": "9949e1410449e718",
   "outputs": [
    {
     "name": "stdout",
     "output_type": "stream",
     "text": [
      "dummy call: \n",
      "{'jsonrpc': '2.0', 'method': 'OnAuthenticationInformation', 'params': {'userId': 'c.zohre', 'userDirectory': 'SVILUPPO', 'logoutUri': 'https://172.31.140.11/py_api/qps/user', 'serverNodeId': 'f2ace474-d351-44c5-a8fc-cc75a0e730b2', 'mustAuthenticate': False}}\n",
      "\n",
      "CORRECTLY AUTHENTICATED\n"
     ]
    }
   ],
   "execution_count": 38
  },
  {
   "metadata": {},
   "cell_type": "markdown",
   "source": "**Get the app list**",
   "id": "eb36dada6dd32d"
  },
  {
   "metadata": {
    "ExecuteTime": {
     "end_time": "2024-08-02T09:55:12.148705Z",
     "start_time": "2024-08-02T09:55:11.995486Z"
    }
   },
   "cell_type": "code",
   "source": [
    "doc_list = qlik.get_doclist()\n",
    "print(\"Available documents:\")\n",
    "for i, doc in enumerate(doc_list):\n",
    "    print(f\"{i + 1}: {doc['name']} (ID: {doc['id']})\")"
   ],
   "id": "6a2e2bdcedcda4be",
   "outputs": [
    {
     "name": "stdout",
     "output_type": "stream",
     "text": [
      "Available documents:\n",
      "1: Agenas - Tariffe Telemedicina (ID: dcd257ff-5ab2-4d61-8386-4b7b643c5b8e)\n",
      "2: AslRieti - AGFA (ID: 8279daca-7bb8-40cb-9c0e-5e3f639e9aeb)\n",
      "3: ASLRieti - Dati Economici (ID: 624b0db8-8a8e-49aa-92e6-7860b72d56a8)\n",
      "4: ASLRieti - EIMaS DIRECT - ADT (ID: 77f07394-32d7-4cce-b025-ad28285f4554)\n",
      "5: ASLRieti - EIMaS Distrettuale (ID: 16c3df6b-fd64-4639-9638-cf6c40d15ce7)\n",
      "6: ASLRieti - EIMaS Universe (ID: f33de9e9-ca30-43cf-a070-70a50297ab24)\n",
      "7: ASLRieti - Frequent Users (ID: feaf828b-fd36-4592-b4d7-100784e76d47)\n",
      "8: ASLRieti - Personale (ID: a235ee7f-6327-4014-be57-38ee7247cb42)\n",
      "9: ASLRieti - SIRA (ID: 5c1cd820-289e-4d93-b5f9-bb29d7e34da5)\n",
      "10: ASLRoma4 - Ca.Sa. (ID: 671408c9-6f3b-4ba7-9541-44393a8f4596)\n",
      "11: ASLRoma4 - Consultori (ID: 380f486d-3423-4865-a9ae-40de5e8133e5)\n",
      "12: ASLRoma4 - Covid (ID: 90e2b88f-4ea4-4a05-91e7-20f7556bc82c)\n",
      "13: ASLRoma4 - DSM CentroSaluteMentale (ID: 16e00a1c-87c3-4f75-9ab1-6fce50cd08e4)\n",
      "14: ASLRoma4 - DSM SIPC CC.DD.RR (ID: abf75606-e6b6-42d0-949b-df595b633023)\n",
      "15: ASLRoma4 - DSM SIPC SRTRe (ID: 5de9a5b5-5077-4e4a-8644-07966b9ea822)\n",
      "16: ASLRoma4 - DSM UOSD TSMREE (ID: 832e87b8-b714-4469-9d50-9f4c751f2a43)\n",
      "17: ASLRoma4 - Indicatori SIOA, Performance (ID: 256f5c8f-ee50-43c2-8af8-8760f39ce594)\n",
      "18: ASLViterbo - EIMaS Universe (ID: 6d12fb44-3eb0-4389-b7cb-104c4bf8d26d)\n",
      "19: ASLViterbo - Focus Accessi Pronto Soccorso (ID: 1d5ad2bb-7a25-4a19-9541-6698abb3547a)\n",
      "20: ASLViterbo - Frequent Users (ID: 18f28cdd-bec9-417d-8a32-df86ec76894f)\n",
      "21: ASLViterbo - Monitoraggio Viterbo (ID: bbf933d6-f896-49b4-afca-9e33673c9dea)\n",
      "22: AslViterbo - RECUP - Sviluppo (ID: cf89a1a7-3423-4e03-a822-f54a45fefc33)\n",
      "23: AslViterbo - RECUP - TEST (ID: 5905d35d-c958-4cce-8dca-5a93384ba055)\n",
      "24: ASLViterbo - Report degenza media e Indice di case mix (ID: 4f7012c9-3846-4e3d-b6cd-14812d686697)\n",
      "25: ASLViterbo - Ricerca e Decodifica Codici Fiscali (ID: f125a121-2870-42c5-acd5-aa39a2c244a5)\n",
      "26: ASLViterbo - Vaccini Covid (ID: 5f4ffd1e-a81d-4010-aa09-130fe5611f30)\n",
      "27: ASLViterbo - Verticale Emergenziale (ID: d2456925-c8c5-4d96-a547-79084abef78e)\n",
      "28: ASLViterbo - Verticale NearRealTime ADT (ID: 4f0030fc-176a-4aee-883e-63f5b6b13a94)\n",
      "29: ASLViterbo - Verticale NearRealTime ADT(1) (ID: 7d2addc1-ac0f-40e2-8a2f-7bbe507ddcb8)\n",
      "30: ASLViterbo - Verticale Ospedaliero (ID: 0ff871be-219c-4084-b5a1-75d85dbfb261)\n",
      "31: ASLViterbo - Verticale Specialistica Ambulatoriale (ID: 0a21d7b1-ebb6-4078-b06f-b0db06238381)\n",
      "32: Hospice Rieti (ID: 0bf5c3ec-e8de-4be0-967c-f661b16dbc67)\n",
      "33: Internal - Calendar Updater (ID: 36f59c1b-8a29-40ff-a0bf-b3918523d062)\n",
      "34: Internal - Cloud Viterbo (ID: 6bba9a79-94eb-4607-9b52-8ab35756f1b2)\n",
      "35: Internal - Create SIESANN (ID: d58dad91-cc93-43fe-8e28-a16763013934)\n",
      "36: Internal - EIMaS Cloud Builder Rieti (ID: 937758fb-4ff8-4eb3-a14d-146c96c9f3ec)\n",
      "37: Internal - EIMaS Create GoldenData Rieti (ID: 35f48aaa-9d20-447d-919a-f66c6af74159)\n",
      "38: Internal - EIMaS Create GoldenData Rieti - Loop Version (ID: d25981b3-e83e-4dd3-85a1-b63b2f1ba6ce)\n",
      "39: Internal - EIMaS Orchestrator Rieti (ID: ad4f70ac-54a3-481b-b06a-f39c9e7ac45a)\n",
      "40: Internal - GoldenCopy Viterbo (ID: 3f911b37-d18c-41dc-aabd-3be01eb5cd49)\n",
      "41: Internal - Mappatura Cronicità (ID: 7ff4d28d-5c9a-4a2f-92e3-5d8066706073)\n",
      "42: Internal - Qlik Object Publisher (ID: 4daa7e6b-9c67-4806-87c4-cba61957e163)\n",
      "43: Internal - Shifter Log Reader (ID: fcb7bb4b-3560-4703-b823-1fbfd821bad6)\n",
      "44: Internal - Stage Viterbo (ID: 2573d2f5-b0d1-42b3-87c1-590b4107e6ce)\n",
      "45: License Monitor (ID: 1613469a-70b4-45f5-9f93-8fd245eea2d7)\n",
      "46: License Monitor_31.34.0.0 (ID: 4df52bca-c4d4-4091-be51-7887cc5e775f)\n",
      "47: MobExtra (ID: 93d11cbb-7e02-4fbf-a698-ac0efa7e534d)\n",
      "48: Novartis - Stratificazione Dislipidemie ASLRoma2 (ID: 366d20de-0a04-4a45-8a26-4fb943dde1f2)\n",
      "49: Operations Monitor (ID: cb1bf2fd-c6eb-4568-8e80-126276d8f006)\n",
      "50: Operations Monitor_31.34.0.0 (ID: 0a713fea-d4bb-4b56-9fc8-f78fd0467a37)\n",
      "51: Rieti - ADT (ID: 31681d86-e4cc-4c6b-a735-4ad8c767d151)\n",
      "52: Rieti - Caricamento SIAT (ID: 7e48c0f8-4e32-4a9b-b10c-ff59baf42531)\n",
      "53: Stratificazione RM2 (ID: d3bb1648-736f-4d73-821a-6f9ad46b5d68)\n",
      "54: Test (ID: f33793f0-361d-445f-aa84-2a32ee12b62f)\n",
      "55: x (ID: 41580072-a66e-4c3b-b4d7-9bd1a77f9649)\n"
     ]
    }
   ],
   "execution_count": 39
  },
  {
   "metadata": {},
   "cell_type": "markdown",
   "source": "**Select and open an app**",
   "id": "70409942f34a2c16"
  },
  {
   "metadata": {
    "ExecuteTime": {
     "end_time": "2024-08-02T09:55:15.796849Z",
     "start_time": "2024-08-02T09:55:14.641609Z"
    }
   },
   "cell_type": "code",
   "source": [
    "selection = int(input(\"Select a document number to open: \")) - 1\n",
    "\n",
    "if 0 <= selection < len(doc_list):\n",
    "    selected_doc_id = doc_list[selection]['id']\n",
    "    # Open the doc\n",
    "    qlik.open_document(selected_doc_id)"
   ],
   "id": "49af02631f4cb2cb",
   "outputs": [
    {
     "name": "stdout",
     "output_type": "stream",
     "text": [
      "\n",
      "Opening the doc: 77f07394-32d7-4cce-b025-ad28285f4554\n",
      "\n",
      "Received result: {'jsonrpc': '2.0', 'id': 2, 'result': {'qReturn': {'qType': 'Doc', 'qHandle': 1, 'qGenericId': '77f07394-32d7-4cce-b025-ad28285f4554'}}}\n",
      "Received handle 1 for doc 77f07394-32d7-4cce-b025-ad28285f4554\n"
     ]
    }
   ],
   "execution_count": 40
  },
  {
   "metadata": {},
   "cell_type": "markdown",
   "source": "**Simple evaluation**",
   "id": "70fb48a274ab66ef"
  },
  {
   "metadata": {
    "ExecuteTime": {
     "end_time": "2024-08-02T09:55:24.981358Z",
     "start_time": "2024-08-02T09:55:17.739409Z"
    }
   },
   "cell_type": "code",
   "source": [
    "measure = input(\"Enter measure (ex: count(Sales)): \")\n",
    "qlik.evaluate_expression(measure)"
   ],
   "id": "950910ee07453428",
   "outputs": [
    {
     "name": "stdout",
     "output_type": "stream",
     "text": [
      "simple call\n",
      "\n",
      "{'jsonrpc': '2.0', 'id': 3, 'result': {'qValue': {'qText': '157891', 'qIsNumeric': True, 'qNumber': 157891}}}\n"
     ]
    }
   ],
   "execution_count": 41
  },
  {
   "metadata": {},
   "cell_type": "markdown",
   "source": "**Evaluation with selected field and values**",
   "id": "3d457ea477e0654f"
  },
  {
   "metadata": {
    "ExecuteTime": {
     "end_time": "2024-08-02T09:55:47.202321Z",
     "start_time": "2024-08-02T09:55:32.475189Z"
    }
   },
   "cell_type": "code",
   "source": [
    "field_name = input(\"Enter field (ex: REGIME): \")\n",
    "field_value = input(\"Enter field value (ex: RIC. ORDINARIO): \")\n",
    "measure = input(\"Enter measure (ex: count(distinct ID)): \")\n",
    "qlik.get_field(field_name)\n",
    "qlik.select_field(field_value)\n",
    "qlik.evaluate_expression(measure)"
   ],
   "id": "f5b0885618f4329e",
   "outputs": [
    {
     "name": "stdout",
     "output_type": "stream",
     "text": [
      "{'jsonrpc': '2.0', 'id': 4, 'result': {'qReturn': {'qType': 'Field', 'qHandle': 2}}}\n",
      "{'jsonrpc': '2.0', 'id': 5, 'result': {'qReturn': True}, 'change': [1, 2]}\n",
      "simple call\n",
      "\n",
      "{'jsonrpc': '2.0', 'id': 3, 'result': {'qValue': {'qText': '157891', 'qIsNumeric': True, 'qNumber': 157891}}}\n"
     ]
    }
   ],
   "execution_count": 42
  },
  {
   "metadata": {},
   "cell_type": "markdown",
   "source": "**Create Session Object**",
   "id": "da02d1a392e10e83"
  },
  {
   "metadata": {
    "ExecuteTime": {
     "end_time": "2024-08-02T09:55:55.187832Z",
     "start_time": "2024-08-02T09:55:55.164025Z"
    }
   },
   "cell_type": "code",
   "source": [
    "# Define your dimensions and measures\n",
    "dimensions = [\"REGIME\", \"ANNO_RICOVERO\"]\n",
    "measures = [\"count(distinct IDENTIFICATIVO_PAZIENTE)\", \"count(IDENTIFICATIVO_RICOVERO)\"]\n",
    "\n",
    "# Create session object dynamically\n",
    "qlik.create_session_obj(dimensions, measures)"
   ],
   "id": "454f5f4b60a4db5e",
   "outputs": [
    {
     "name": "stdout",
     "output_type": "stream",
     "text": [
      "{'jsonrpc': '2.0', 'id': 1, 'error': {'code': -32602, 'parameter': 'JSON type error', 'message': 'Invalid method parameter(s)'}}\n"
     ]
    }
   ],
   "execution_count": 43
  },
  {
   "metadata": {},
   "cell_type": "markdown",
   "source": "**Get Hypercube Data**",
   "id": "7b74ba3e20322876"
  },
  {
   "metadata": {
    "ExecuteTime": {
     "end_time": "2024-08-02T09:56:02.872855Z",
     "start_time": "2024-08-02T09:56:02.844931Z"
    }
   },
   "cell_type": "code",
   "source": "qlik.get_hypercube_data()",
   "id": "73c2154215c4ea49",
   "outputs": [
    {
     "ename": "AttributeError",
     "evalue": "'QlikConnect' object has no attribute 'get_hypercube_data'",
     "output_type": "error",
     "traceback": [
      "\u001B[1;31m---------------------------------------------------------------------------\u001B[0m",
      "\u001B[1;31mAttributeError\u001B[0m                            Traceback (most recent call last)",
      "Cell \u001B[1;32mIn[44], line 1\u001B[0m\n\u001B[1;32m----> 1\u001B[0m \u001B[43mqlik\u001B[49m\u001B[38;5;241;43m.\u001B[39;49m\u001B[43mget_hypercube_data\u001B[49m()\n",
      "\u001B[1;31mAttributeError\u001B[0m: 'QlikConnect' object has no attribute 'get_hypercube_data'"
     ]
    }
   ],
   "execution_count": 44
  },
  {
   "metadata": {},
   "cell_type": "markdown",
   "source": "**Get Layout**",
   "id": "94223397db063197"
  },
  {
   "metadata": {
    "ExecuteTime": {
     "end_time": "2024-08-02T09:53:49.896732Z",
     "start_time": "2024-08-02T09:53:49.866780Z"
    }
   },
   "cell_type": "code",
   "source": "qlik.get_layout()",
   "id": "56d83eb08f2758a",
   "outputs": [
    {
     "ename": "AttributeError",
     "evalue": "'QlikConnect' object has no attribute 'get_layout'",
     "output_type": "error",
     "traceback": [
      "\u001B[1;31m---------------------------------------------------------------------------\u001B[0m",
      "\u001B[1;31mAttributeError\u001B[0m                            Traceback (most recent call last)",
      "Cell \u001B[1;32mIn[35], line 1\u001B[0m\n\u001B[1;32m----> 1\u001B[0m \u001B[43mqlik\u001B[49m\u001B[38;5;241;43m.\u001B[39;49m\u001B[43mget_layout\u001B[49m()\n",
      "\u001B[1;31mAttributeError\u001B[0m: 'QlikConnect' object has no attribute 'get_layout'"
     ]
    }
   ],
   "execution_count": 35
  },
  {
   "metadata": {},
   "cell_type": "markdown",
   "source": "**Export Data**",
   "id": "fc91f326e25e3213"
  },
  {
   "metadata": {},
   "cell_type": "code",
   "outputs": [],
   "execution_count": null,
   "source": "qlik.export_hypercube_to_csv(file_path='exported_data.csv')",
   "id": "fc3fe7fb0d8057e0"
  },
  {
   "metadata": {},
   "cell_type": "markdown",
   "source": "**Close Connection**",
   "id": "d749c62ca9daa45"
  },
  {
   "metadata": {
    "ExecuteTime": {
     "end_time": "2024-08-02T09:56:15.928761Z",
     "start_time": "2024-08-02T09:56:15.900730Z"
    }
   },
   "cell_type": "code",
   "source": "qlik.close_connection()",
   "id": "d098b5bc35bbc8d3",
   "outputs": [],
   "execution_count": 45
  },
  {
   "metadata": {},
   "cell_type": "code",
   "outputs": [],
   "execution_count": null,
   "source": "",
   "id": "4c9f8b991195dc1a"
  }
 ],
 "metadata": {
  "kernelspec": {
   "display_name": "Python 3",
   "language": "python",
   "name": "python3"
  },
  "language_info": {
   "codemirror_mode": {
    "name": "ipython",
    "version": 2
   },
   "file_extension": ".py",
   "mimetype": "text/x-python",
   "name": "python",
   "nbconvert_exporter": "python",
   "pygments_lexer": "ipython2",
   "version": "2.7.6"
  }
 },
 "nbformat": 4,
 "nbformat_minor": 5
}
